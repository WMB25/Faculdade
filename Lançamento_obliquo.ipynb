{
  "nbformat": 4,
  "nbformat_minor": 0,
  "metadata": {
    "colab": {
      "provenance": [],
      "authorship_tag": "ABX9TyMoFytDjmvaLTL4J8TUBH9o",
      "include_colab_link": true
    },
    "kernelspec": {
      "name": "python3",
      "display_name": "Python 3"
    },
    "language_info": {
      "name": "python"
    }
  },
  "cells": [
    {
      "cell_type": "markdown",
      "metadata": {
        "id": "view-in-github",
        "colab_type": "text"
      },
      "source": [
        "<a href=\"https://colab.research.google.com/github/WMB25/Faculdade/blob/main/Lan%C3%A7amento_obliquo.ipynb\" target=\"_parent\"><img src=\"https://colab.research.google.com/assets/colab-badge.svg\" alt=\"Open In Colab\"/></a>"
      ]
    },
    {
      "cell_type": "code",
      "execution_count": null,
      "metadata": {
        "id": "zwOYiz22w41d"
      },
      "outputs": [],
      "source": [
        "import os, sys, csv, math"
      ]
    },
    {
      "cell_type": "markdown",
      "source": [
        "O código tem como intuito fazer a simulção de lançamento de uma matéria fisica em um plano carteriano R²."
      ],
      "metadata": {
        "id": "aVINdzJYxdvp"
      }
    },
    {
      "cell_type": "code",
      "source": [
        "print(\"Simulador de Lançamento Obliquo\")"
      ],
      "metadata": {
        "id": "jHZI4OVoxXXK"
      },
      "execution_count": null,
      "outputs": []
    },
    {
      "cell_type": "markdown",
      "source": [
        "Nós podemos controlar a velocidade (𝑣0), ângulo (θ) e intervalo de lançamento, de cada simulação de lançamento.\n",
        "\n",
        "Nossa gravidade (𝑔) é  9.81 que é a aproximação na Terra."
      ],
      "metadata": {
        "id": "4Oc35FSM_RI8"
      }
    },
    {
      "cell_type": "code",
      "source": [
        "gravity = 9.81\n",
        "velocity = float(input(\"Digite a velocidade inicial (m/s): \"))\n",
        "angle = math.radians(float(input(\"Digite o ângulo de lançamento (graus): \")))\n",
        "time_step = float(input(\"Digite o intervalo de tempo para cálculo (s): \"))"
      ],
      "metadata": {
        "colab": {
          "base_uri": "https://localhost:8080/"
        },
        "id": "2I4zNMm_yAM9",
        "outputId": "4bd5b7f9-c214-4534-c394-469a8e3e5a55"
      },
      "execution_count": null,
      "outputs": [
        {
          "name": "stdout",
          "output_type": "stream",
          "text": [
            "Digite a velocidade inicial (m/s): 20\n",
            "Digite o ângulo de lançamento (graus): 30\n",
            "Digite o intervalo de tempo para cálculo (s): 0.1\n"
          ]
        }
      ]
    },
    {
      "cell_type": "markdown",
      "source": [
        "Nossa simulação de lançamento utilizará as funções:\n",
        "\n",
        "𝐓 = tempo\n",
        "*   Tempo de Voo = [(2 × 𝑣0 × sen(θ))/𝑔]\n",
        "*   velocidade na horozontal -> [𝑣0 × cos(θ) × 𝐓]\n",
        "*   velocidade na vertical -> [(𝑣0 × sin(θ) × 𝐓) - (½ × 𝑔 × 𝐓²)]"
      ],
      "metadata": {
        "id": "RlCKZ8P7AAG1"
      }
    },
    {
      "cell_type": "code",
      "source": [
        "def Launch_oblique(velocity, angle, time_step):\n",
        "  time_of_flight = ((2 * velocity * math.sin(angle))/ gravity)\n",
        "\n",
        "  positions = []\n",
        "  time = 0\n",
        "\n",
        "  while time <= time_of_flight:\n",
        "    pos_x = (velocity * math.cos(angle) * time)\n",
        "    pos_y = ((velocity * math.sin(angle) * time) - (0.5 * gravity * time**2))\n",
        "    positions.append([time, pos_x, pos_y])\n",
        "    time += time_step\n",
        "\n",
        "  if positions[-1][0] < time_of_flight:\n",
        "    pos_x = (velocity * math.cos(angle) * time)\n",
        "    pos_y = ((velocity * math.sin(angle) * time) - (0.5 * gravity * time**2))\n",
        "    positions.append([time, pos_x, pos_y])\n",
        "  return (positions)"
      ],
      "metadata": {
        "id": "yV0GTDRy6-Gt"
      },
      "execution_count": null,
      "outputs": []
    },
    {
      "cell_type": "code",
      "source": [
        "positions = Launch_oblique(velocity, angle, time_step)"
      ],
      "metadata": {
        "id": "iTDuZj0s8ZEH"
      },
      "execution_count": null,
      "outputs": []
    },
    {
      "cell_type": "markdown",
      "source": [
        "Saída Para o User."
      ],
      "metadata": {
        "id": "4YJJwKhjOJGW"
      }
    },
    {
      "cell_type": "code",
      "source": [
        "print(\"          Dados da Simulação\\n\")\n",
        "print(\"{:<10} {:<15} {:<15}\".format(\"Tempo (s)\", \"Posição X (m)\", \"Posição Y (m)\"))\n",
        "for point in positions:\n",
        "  print(\"{:<10.3f} {:<15.3f} {:<15.3f}\".format(point[0], point[1], point[2]))"
      ],
      "metadata": {
        "colab": {
          "base_uri": "https://localhost:8080/"
        },
        "id": "vgMflvJtCI1l",
        "outputId": "8d291aa1-2b34-40cd-9642-0bfeef217d03"
      },
      "execution_count": null,
      "outputs": [
        {
          "output_type": "stream",
          "name": "stdout",
          "text": [
            "          Dados da Simulação\n",
            "\n",
            "Tempo (s)  Posição X (m)   Posição Y (m)  \n",
            "0.000      0.000           0.000          \n",
            "0.100      1.732           0.951          \n",
            "0.200      3.464           1.804          \n",
            "0.300      5.196           2.559          \n",
            "0.400      6.928           3.215          \n",
            "0.500      8.660           3.774          \n",
            "0.600      10.392          4.234          \n",
            "0.700      12.124          4.597          \n",
            "0.800      13.856          4.861          \n",
            "0.900      15.588          5.027          \n",
            "1.000      17.321          5.095          \n",
            "1.100      19.053          5.065          \n",
            "1.200      20.785          4.937          \n",
            "1.300      22.517          4.711          \n",
            "1.400      24.249          4.386          \n",
            "1.500      25.981          3.964          \n",
            "1.600      27.713          3.443          \n",
            "1.700      29.445          2.825          \n",
            "1.800      31.177          2.108          \n",
            "1.900      32.909          1.293          \n",
            "2.000      34.641          0.380          \n",
            "2.100      36.373          -0.631         \n"
          ]
        }
      ]
    },
    {
      "cell_type": "markdown",
      "source": [
        "Criação do arquivo CSV."
      ],
      "metadata": {
        "id": "_-CWZCWh_DSt"
      }
    },
    {
      "cell_type": "code",
      "source": [
        "with open(\"Lancamento_obliquo.csv\", \"w\", newline='') as file:\n",
        "  writer = csv.writer(file)\n",
        "  writer.writerow([\"Tempo (s)\", \"Posição X (m)\", \"Posição Y (m)\"])\n",
        "  for point in positions:\n",
        "    writer.writerow([round(point[0], 3), round(point[1], 3), round(point[2], 3)])\n",
        "\n",
        "  print(\"Dados salvos em 'Lançameto_obliquo.csv'\")"
      ],
      "metadata": {
        "id": "JRneDVlc8ggJ"
      },
      "execution_count": null,
      "outputs": []
    },
    {
      "cell_type": "markdown",
      "source": [
        "Simulação com tela gráfica e interativa: [Simulador de Lançamento](https://editor.p5js.org/WALIS/full/jO0xOZ3lA)\n",
        "\n",
        "Nome: Walison M.B\n",
        "\n",
        "Curso: BCC\n",
        "\n",
        "Turma: B"
      ],
      "metadata": {
        "id": "S4NfaeDFOjIC"
      }
    }
  ]
}